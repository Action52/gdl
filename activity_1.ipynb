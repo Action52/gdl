{
 "cells": [
  {
   "cell_type": "markdown",
   "metadata": {},
   "source": [
    "# My first Deep Neural Network\n",
    "\n",
    "### Activity from Chapter 2 of Generative Deep Learning, by David Foster"
   ]
  },
  {
   "cell_type": "markdown",
   "metadata": {},
   "source": [
    "This example is loading the CIFAR-10 dataset, consisting of 60k images of 32 * 32 color pixels. There are 10 categories and each image is labeled with one category."
   ]
  },
  {
   "cell_type": "code",
   "execution_count": 1,
   "metadata": {},
   "outputs": [
    {
     "name": "stderr",
     "output_type": "stream",
     "text": [
      "Using TensorFlow backend.\n"
     ]
    }
   ],
   "source": [
    "# Import statements\n",
    "import numpy as np\n",
    "from keras.utils import to_categorical\n",
    "from keras.datasets import cifar10\n",
    "from keras.models import Sequential\n",
    "from keras.layers import Input, Flatten, Dense\n",
    "from keras.models import Model"
   ]
  },
  {
   "cell_type": "code",
   "execution_count": 2,
   "metadata": {},
   "outputs": [],
   "source": [
    "(x_train, y_train), (x_test, y_test) = cifar10.load_data()"
   ]
  },
  {
   "cell_type": "code",
   "execution_count": 3,
   "metadata": {},
   "outputs": [],
   "source": [
    "NUM_CLASSES = 10\n",
    "PIXELS = 255.0\n",
    "\n",
    "# Neural networks work best when in ranges of -1 to 1, that's why we divide by 255\n",
    "x_train = x_train.astype('float32') / PIXELS\n",
    "x_test = x_test.astype('float32') / PIXELS\n",
    "\n",
    "y_train = to_categorical(y_train, NUM_CLASSES) # Changes the categories into one-hot vector [0,0,0,1,0]\n",
    "y_test = to_categorical(y_test, NUM_CLASSES)"
   ]
  },
  {
   "cell_type": "code",
   "execution_count": 4,
   "metadata": {},
   "outputs": [
    {
     "data": {
      "text/plain": [
       "array([[0., 0., 0., 0., 0., 0., 1., 0., 0., 0.],\n",
       "       [0., 0., 0., 0., 0., 0., 0., 0., 0., 1.],\n",
       "       [0., 0., 0., 0., 0., 0., 0., 0., 0., 1.],\n",
       "       [0., 0., 0., 0., 1., 0., 0., 0., 0., 0.],\n",
       "       [0., 1., 0., 0., 0., 0., 0., 0., 0., 0.],\n",
       "       [0., 1., 0., 0., 0., 0., 0., 0., 0., 0.],\n",
       "       [0., 0., 1., 0., 0., 0., 0., 0., 0., 0.],\n",
       "       [0., 0., 0., 0., 0., 0., 0., 1., 0., 0.],\n",
       "       [0., 0., 0., 0., 0., 0., 0., 0., 1., 0.],\n",
       "       [0., 0., 0., 1., 0., 0., 0., 0., 0., 0.]], dtype=float32)"
      ]
     },
     "execution_count": 4,
     "metadata": {},
     "output_type": "execute_result"
    }
   ],
   "source": [
    "y_train[:10]"
   ]
  },
  {
   "cell_type": "markdown",
   "metadata": {},
   "source": [
    "### Sequential vs Functional API Architecture"
   ]
  },
  {
   "cell_type": "code",
   "execution_count": 5,
   "metadata": {},
   "outputs": [
    {
     "name": "stderr",
     "output_type": "stream",
     "text": [
      "WARNING: Logging before flag parsing goes to stderr.\n",
      "W0630 19:36:08.983575 4378084864 deprecation_wrapper.py:119] From /Users/alfredo.leon/opt/miniconda3/envs/gdl/lib/python3.7/site-packages/keras/backend/tensorflow_backend.py:74: The name tf.get_default_graph is deprecated. Please use tf.compat.v1.get_default_graph instead.\n",
      "\n",
      "W0630 19:36:09.013512 4378084864 deprecation_wrapper.py:119] From /Users/alfredo.leon/opt/miniconda3/envs/gdl/lib/python3.7/site-packages/keras/backend/tensorflow_backend.py:517: The name tf.placeholder is deprecated. Please use tf.compat.v1.placeholder instead.\n",
      "\n",
      "W0630 19:36:09.028063 4378084864 deprecation_wrapper.py:119] From /Users/alfredo.leon/opt/miniconda3/envs/gdl/lib/python3.7/site-packages/keras/backend/tensorflow_backend.py:4138: The name tf.random_uniform is deprecated. Please use tf.random.uniform instead.\n",
      "\n"
     ]
    }
   ],
   "source": [
    "model_seq = Sequential([\n",
    "    Dense(200, activation = 'relu', input_shape=(32,32,3)),\n",
    "    Flatten(),\n",
    "    Dense(150, activation = 'relu'),\n",
    "    Dense(10, activation= 'softmax'),\n",
    "])"
   ]
  },
  {
   "cell_type": "code",
   "execution_count": 6,
   "metadata": {},
   "outputs": [],
   "source": [
    "input_layer = Input(shape=(32,32,3))\n",
    "x = Flatten()(input_layer)\n",
    "x = Dense(units=200, activation='relu')(x)\n",
    "x = Dense(units=150, activation='relu')(x)\n",
    "output_layer = Dense(units=10, activation='softmax')(x)\n",
    "model_func = Model(input_layer, output_layer)"
   ]
  },
  {
   "cell_type": "code",
   "execution_count": 7,
   "metadata": {},
   "outputs": [
    {
     "name": "stdout",
     "output_type": "stream",
     "text": [
      "_________________________________________________________________\n",
      "Layer (type)                 Output Shape              Param #   \n",
      "=================================================================\n",
      "input_1 (InputLayer)         (None, 32, 32, 3)         0         \n",
      "_________________________________________________________________\n",
      "flatten_2 (Flatten)          (None, 3072)              0         \n",
      "_________________________________________________________________\n",
      "dense_4 (Dense)              (None, 200)               614600    \n",
      "_________________________________________________________________\n",
      "dense_5 (Dense)              (None, 150)               30150     \n",
      "_________________________________________________________________\n",
      "dense_6 (Dense)              (None, 10)                1510      \n",
      "=================================================================\n",
      "Total params: 646,260\n",
      "Trainable params: 646,260\n",
      "Non-trainable params: 0\n",
      "_________________________________________________________________\n"
     ]
    }
   ],
   "source": [
    "model_func.summary()"
   ]
  },
  {
   "cell_type": "markdown",
   "metadata": {},
   "source": [
    "### Compile the model"
   ]
  },
  {
   "cell_type": "code",
   "execution_count": 8,
   "metadata": {},
   "outputs": [
    {
     "name": "stderr",
     "output_type": "stream",
     "text": [
      "W0630 19:36:16.170072 4378084864 deprecation_wrapper.py:119] From /Users/alfredo.leon/opt/miniconda3/envs/gdl/lib/python3.7/site-packages/keras/optimizers.py:790: The name tf.train.Optimizer is deprecated. Please use tf.compat.v1.train.Optimizer instead.\n",
      "\n",
      "W0630 19:36:16.177990 4378084864 deprecation_wrapper.py:119] From /Users/alfredo.leon/opt/miniconda3/envs/gdl/lib/python3.7/site-packages/keras/backend/tensorflow_backend.py:3295: The name tf.log is deprecated. Please use tf.math.log instead.\n",
      "\n"
     ]
    }
   ],
   "source": [
    "from keras.optimizers import Adam\n",
    "opt = Adam(lr=0.0005)\n",
    "model_func.compile(loss='categorical_crossentropy', optimizer=opt, metrics=['accuracy'])"
   ]
  },
  {
   "cell_type": "markdown",
   "metadata": {},
   "source": [
    "### Train the model "
   ]
  },
  {
   "cell_type": "code",
   "execution_count": 9,
   "metadata": {},
   "outputs": [
    {
     "name": "stderr",
     "output_type": "stream",
     "text": [
      "W0630 19:36:49.861757 4378084864 deprecation.py:323] From /Users/alfredo.leon/opt/miniconda3/envs/gdl/lib/python3.7/site-packages/tensorflow/python/ops/math_grad.py:1250: add_dispatch_support.<locals>.wrapper (from tensorflow.python.ops.array_ops) is deprecated and will be removed in a future version.\n",
      "Instructions for updating:\n",
      "Use tf.where in 2.0, which has the same broadcast rule as np.where\n",
      "W0630 19:36:49.911502 4378084864 deprecation_wrapper.py:119] From /Users/alfredo.leon/opt/miniconda3/envs/gdl/lib/python3.7/site-packages/keras/backend/tensorflow_backend.py:986: The name tf.assign_add is deprecated. Please use tf.compat.v1.assign_add instead.\n",
      "\n"
     ]
    },
    {
     "name": "stdout",
     "output_type": "stream",
     "text": [
      "Epoch 1/10\n",
      "50000/50000 [==============================] - 11s 227us/step - loss: 1.8521 - acc: 0.3346\n",
      "Epoch 2/10\n",
      "50000/50000 [==============================] - 11s 219us/step - loss: 1.6624 - acc: 0.4052\n",
      "Epoch 3/10\n",
      "50000/50000 [==============================] - 11s 220us/step - loss: 1.5786 - acc: 0.4385\n",
      "Epoch 4/10\n",
      "50000/50000 [==============================] - 11s 215us/step - loss: 1.5285 - acc: 0.4533\n",
      "Epoch 5/10\n",
      "50000/50000 [==============================] - 11s 219us/step - loss: 1.4900 - acc: 0.4694\n",
      "Epoch 6/10\n",
      "50000/50000 [==============================] - 11s 218us/step - loss: 1.4575 - acc: 0.4814\n",
      "Epoch 7/10\n",
      "50000/50000 [==============================] - 11s 219us/step - loss: 1.4320 - acc: 0.4897\n",
      "Epoch 8/10\n",
      "50000/50000 [==============================] - 11s 218us/step - loss: 1.4094 - acc: 0.4985\n",
      "Epoch 9/10\n",
      "50000/50000 [==============================] - 11s 227us/step - loss: 1.3909 - acc: 0.5037\n",
      "Epoch 10/10\n",
      "50000/50000 [==============================] - 11s 230us/step - loss: 1.3679 - acc: 0.5126\n"
     ]
    },
    {
     "data": {
      "text/plain": [
       "<keras.callbacks.History at 0x7f8f1a6f5a50>"
      ]
     },
     "execution_count": 9,
     "metadata": {},
     "output_type": "execute_result"
    }
   ],
   "source": [
    "model_func.fit(\n",
    "    x_train, \n",
    "    y_train,\n",
    "    batch_size=32,\n",
    "    epochs=10,\n",
    "    shuffle=True\n",
    ")"
   ]
  },
  {
   "cell_type": "markdown",
   "metadata": {},
   "source": [
    "### Evaluating the model"
   ]
  },
  {
   "cell_type": "code",
   "execution_count": 11,
   "metadata": {},
   "outputs": [
    {
     "name": "stdout",
     "output_type": "stream",
     "text": [
      "10000/10000 [==============================] - 1s 53us/step\n"
     ]
    },
    {
     "data": {
      "text/plain": [
       "[1.4500603324890138, 0.4817]"
      ]
     },
     "execution_count": 11,
     "metadata": {},
     "output_type": "execute_result"
    }
   ],
   "source": [
    "model_func.evaluate(x_test, y_test)"
   ]
  },
  {
   "cell_type": "code",
   "execution_count": 12,
   "metadata": {},
   "outputs": [],
   "source": [
    "CLASSES = np.array(['airplane', 'automobile', 'bird', 'cat', 'deer', 'dog', \n",
    "                    'frog', 'horse', 'ship', 'truck'])\n",
    "preds = model_func.predict(x_test) # Array of shape 10000, 10. A vector of 10 class probs for each observation\n",
    "preds_single = CLASSES[np.argmax(preds, axis=-1)] # Convert the array back into a single prediction\n",
    "actual_single = CLASSES[np.argmax(y_test, axis=-1)]"
   ]
  },
  {
   "cell_type": "code",
   "execution_count": 16,
   "metadata": {},
   "outputs": [
    {
     "data": {
      "image/png": "[encoded data removed]",
      "text/plain": [
       "<Figure size 1080x216 with 10 Axes>"
      ]
     },
     "metadata": {
      "needs_background": "light"
     },
     "output_type": "display_data"
    }
   ],
   "source": [
    "import matplotlib.pyplot as plt\n",
    "n_to_show = 10\n",
    "indices = np.random.choice(range(len(x_test)), n_to_show)\n",
    "fig = plt.figure(figsize=(15,3))\n",
    "fig.subplots_adjust(hspace=0.4, wspace=0.4)\n",
    "\n",
    "for i, idx in enumerate(indices):\n",
    "    img = x_test[idx]\n",
    "    ax = fig.add_subplot(1, n_to_show, i+1)\n",
    "    ax.axis('off')\n",
    "    ax.text(0.5, -0.35, 'pred = ' + str(preds_single[idx]), fontsize=10, \n",
    "            ha='center', transform=ax.transAxes, color='white')\n",
    "    ax.text(0.5, -0.7, 'act = ' + str(actual_single[idx]), fontsize=10, \n",
    "            ha='center', transform=ax.transAxes, color='white')\n",
    "    ax.imshow(img)"
   ]
  },
  {
   "cell_type": "code",
   "execution_count": null,
   "metadata": {},
   "outputs": [],
   "source": []
  }
 ],
 "metadata": {
  "kernelspec": {
   "display_name": "gdl",
   "language": "python",
   "name": "gdl"
  },
  "language_info": {
   "codemirror_mode": {
    "name": "ipython",
    "version": 3
   },
   "file_extension": ".py",
   "mimetype": "text/x-python",
   "name": "python",
   "nbconvert_exporter": "python",
   "pygments_lexer": "ipython3",
   "version": "3.7.13"
  }
 },
 "nbformat": 4,
 "nbformat_minor": 2
}
